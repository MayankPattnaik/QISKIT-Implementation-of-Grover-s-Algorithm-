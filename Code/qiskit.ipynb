{
 "cells": [
  {
   "cell_type": "code",
   "execution_count": null,
   "metadata": {},
   "outputs": [],
   "source": [
    "from qiskit import *\n",
    "import qiskit\n",
    "import numpy as np"
   ]
  },
  {
   "cell_type": "code",
   "execution_count": 6,
   "metadata": {},
   "outputs": [],
   "source": [
    "from qiskit.circuit.library import *\n",
    "import matplotlib.pyplot as plt "
   ]
  },
  {
   "cell_type": "code",
   "execution_count": null,
   "metadata": {},
   "outputs": [
    {
     "data": {
      "text/html": [
       "<pre style=\"word-wrap: normal;white-space: pre;background: #fff0;line-height: 1.1;font-family: &quot;Courier New&quot;,Courier,monospace\">     ┌───┐\n",
       "q_0: ┤ H ├\n",
       "     ├───┤\n",
       "q_1: ┤ H ├\n",
       "     └───┘</pre>"
      ],
      "text/plain": [
       "     ┌───┐\n",
       "q_0: ┤ H ├\n",
       "     ├───┤\n",
       "q_1: ┤ H ├\n",
       "     └───┘"
      ]
     },
     "execution_count": 11,
     "metadata": {},
     "output_type": "execute_result"
    }
   ],
   "source": [
    "#Test\n",
    "qc=QuantumCircuit(2)\n",
    "qc.append(HGate(),[0])\n",
    "qc.append(HGate(),[1])\n",
    "qc.draw()"
   ]
  },
  {
   "cell_type": "code",
   "execution_count": 6,
   "metadata": {},
   "outputs": [],
   "source": [
    "from qiskit_ibm_runtime import QiskitRuntimeService\n",
    "service=QiskitRuntimeService(channel='ibm_quantum',token='4dbb00cf62afaefcd5a75717b4366b6ede70c230cd7a8524813b6d70dda1067cd9d975b70a7d6d673b47367b4a0e508bcc57702ee6cfcbb6f414da06d1f01596')"
   ]
  },
  {
   "cell_type": "code",
   "execution_count": 7,
   "metadata": {},
   "outputs": [],
   "source": [
    "backend=service.backend(name='ibm_brisbane')"
   ]
  },
  {
   "cell_type": "code",
   "execution_count": null,
   "metadata": {},
   "outputs": [],
   "source": [
    "from qiskit_ibm_runtime import SamplerV2 as Sampler\n",
    "sampler=Sampler(backend)\n",
    "job=sampler.run(qc)\n",
    "print(job.job_id())"
   ]
  },
  {
   "cell_type": "code",
   "execution_count": null,
   "metadata": {},
   "outputs": [],
   "source": [
    "def grover_oracle(n, marked_state):\n",
    "    oracle=QuantumCircuit(n)\n",
    "    #Flipping qubits which '0' in marked state\n",
    "    for i, bit in enumerate(reversed(marked_state)):\n",
    "        if bit=='0':\n",
    "            oracle.x(i)\n",
    "    #Applying a multi-controlled Z gate\n",
    "    if n==1:\n",
    "        oracle.z(0)\n",
    "    else:\n",
    "        oracle.h(n-1)\n",
    "        oracle.mcx(list(range(n-1)),n-1)\n",
    "        oracle.h(n-1)\n",
    "    #Reverting the X gates\n",
    "    for i, bit in enumerate(reversed(marked_state)):\n",
    "        if bit=='0':\n",
    "            oracle.x(i)\n",
    "    #Converting the oracle circuit into a gate.\n",
    "    oracle_gate=oracle.to_gate()\n",
    "    oracle_gate.name=\"Oracle\"\n",
    "    decomposed_circuit=oracle_gate.decompose(recurse=True)\n",
    "    print(decomposed_circuit.qasm())\n",
    "    return oracle_gate"
   ]
  },
  {
   "cell_type": "code",
   "execution_count": null,
   "metadata": {},
   "outputs": [],
   "source": [
    "def diffuser(n):\n",
    "    qc=QuantumCircuit(n)\n",
    "    qc.h(range(n))\n",
    "    qc.x(range(n))\n",
    "    qc.h(n-1)\n",
    "    qc.mcx(list(range(n-1)), n-1)\n",
    "    qc.h(n-1)\n",
    "    qc.x(range(n))\n",
    "    qc.h(range(n))\n",
    "    diffuser_gate=qc.to_gate()\n",
    "    diffuser_gate.name=\"Diffuser\"\n",
    "    return diffuser_gate"
   ]
  },
  {
   "cell_type": "code",
   "execution_count": null,
   "metadata": {},
   "outputs": [],
   "source": [
    "from qiskit_aer import Aer\n",
    "from qiskit import transpile\n",
    "n=3  #Assigning number of qubits\n",
    "marked_state='101'  #Target state\n",
    "\n",
    "#Describing a quantum circuit with n qubits and n classical bits\n",
    "grover_circuit=QuantumCircuit(n, n)\n",
    "\n",
    "#Initializing all qubits in equal superposition\n",
    "grover_circuit.h(range(n))\n",
    "\n",
    "#Optimal number of Grover iterations calculations\n",
    "iterations=int(np.floor(np.pi/4*np.sqrt(2**n)))\n",
    "print(\"Number of iterations:\",iterations)\n",
    "\n",
    "#Applying Grover iterations\n",
    "for _ in range(iterations):\n",
    "    grover_circuit.append(grover_oracle(n,marked_state),range(n))\n",
    "    grover_circuit.append(diffuser(n),range(n))\n",
    "\n",
    "#Measuring all qubits\n",
    "grover_circuit.measure(range(n),range(n))\n",
    "\n",
    "#Graphing the circuit\n",
    "grover_circuit.draw(output='mpl')\n",
    "\n",
    "#Running the circuit on the qasm simulator initiated in the beginning\n",
    "backend=Aer.get_backend('qasm_simulator')\n",
    "job=backend.run(grover_circuit, backend,shots=1024)\n",
    "result=job.result()\n",
    "counts=result.get_counts()\n",
    "\n",
    "print(\"Measurement counts:\", counts)\n"
   ]
  }
 ],
 "metadata": {
  "kernelspec": {
   "display_name": "Python 3",
   "language": "python",
   "name": "python3"
  },
  "language_info": {
   "codemirror_mode": {
    "name": "ipython",
    "version": 3
   },
   "file_extension": ".py",
   "mimetype": "text/x-python",
   "name": "python",
   "nbconvert_exporter": "python",
   "pygments_lexer": "ipython3",
   "version": "3.12.4"
  }
 },
 "nbformat": 4,
 "nbformat_minor": 2
}
