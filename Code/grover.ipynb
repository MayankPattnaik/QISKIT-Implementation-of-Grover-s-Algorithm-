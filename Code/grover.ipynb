{
 "cells": [
  {
   "cell_type": "code",
   "execution_count": 22,
   "id": "85d1c412",
   "metadata": {},
   "outputs": [],
   "source": [
    "from qiskit import QuantumCircuit\n",
    "import numpy as np"
   ]
  },
  {
   "cell_type": "code",
   "execution_count": null,
   "id": "50cc1a04",
   "metadata": {},
   "outputs": [],
   "source": [
    "def grover_oracle(n, marked_state):\n",
    "    oracle = QuantumCircuit(n)\n",
    "    # Flip qubits for bits that are '0' in the marked state.\n",
    "    for i, bit in enumerate(reversed(marked_state)):\n",
    "        if bit == '0':\n",
    "            oracle.x(i)\n",
    "    # Apply a multi-controlled Z gate.\n",
    "    if n == 1:\n",
    "        oracle.z(0)\n",
    "    else:\n",
    "        oracle.h(n-1)\n",
    "        oracle.mcx(list(range(n-1)), n-1)  # multi-controlled Toffoli gate\n",
    "        oracle.h(n-1)\n",
    "    # Revert the X gates.\n",
    "    for i, bit in enumerate(reversed(marked_state)):\n",
    "        if bit == '0':\n",
    "            oracle.x(i)\n",
    "    # Convert the oracle circuit into a gate.\n",
    "    oracle_gate = oracle.to_gate()\n",
    "    oracle_gate.name = \"Oracle\"\n",
    "    decomposed_circuit = oracle_gate.decompose(recurse=True)\n",
    "    print(decomposed_circuit.qasm())  # Check that no \"Oracle\" instruction remains\n",
    "    return oracle_gate"
   ]
  },
  {
   "cell_type": "code",
   "execution_count": null,
   "id": "dd9e3674",
   "metadata": {},
   "outputs": [],
   "source": [
    "def diffuser(n):\n",
    "    qc = QuantumCircuit(n)\n",
    "    qc.h(range(n))\n",
    "    qc.x(range(n))\n",
    "    # Apply a multi-controlled Z gate\n",
    "    qc.h(n-1)\n",
    "    qc.mcx(list(range(n-1)), n-1)  # multi-controlled Toffoli gate\n",
    "    qc.h(n-1)\n",
    "    qc.x(range(n))\n",
    "    qc.h(range(n))\n",
    "    diffuser_gate = qc.to_gate()\n",
    "    diffuser_gate.name = \"Diffuser\"\n",
    "    return diffuser_gate"
   ]
  },
  {
   "cell_type": "code",
   "execution_count": null,
   "id": "6c055cf1",
   "metadata": {},
   "outputs": [
    {
     "name": "stdout",
     "output_type": "stream",
     "text": [
      "Number of iterations: 2\n"
     ]
    },
    {
     "ename": "AttributeError",
     "evalue": "'Gate' object has no attribute 'decompose'",
     "output_type": "error",
     "traceback": [
      "\u001b[1;31m---------------------------------------------------------------------------\u001b[0m",
      "\u001b[1;31mAttributeError\u001b[0m                            Traceback (most recent call last)",
      "Cell \u001b[1;32mIn[27], line 19\u001b[0m\n\u001b[0;32m     17\u001b[0m \u001b[38;5;66;03m# Step 2: Apply Grover iterations.\u001b[39;00m\n\u001b[0;32m     18\u001b[0m \u001b[38;5;28;01mfor\u001b[39;00m _ \u001b[38;5;129;01min\u001b[39;00m \u001b[38;5;28mrange\u001b[39m(iterations):\n\u001b[1;32m---> 19\u001b[0m     grover_circuit\u001b[38;5;241m.\u001b[39mappend(\u001b[43mgrover_oracle\u001b[49m\u001b[43m(\u001b[49m\u001b[43mn\u001b[49m\u001b[43m,\u001b[49m\u001b[43m \u001b[49m\u001b[43mmarked_state\u001b[49m\u001b[43m)\u001b[49m,\u001b[38;5;28mrange\u001b[39m(n))\n\u001b[0;32m     20\u001b[0m     grover_circuit\u001b[38;5;241m.\u001b[39mappend(diffuser(n), \u001b[38;5;28mrange\u001b[39m(n))\n\u001b[0;32m     22\u001b[0m \u001b[38;5;66;03m# Step 3: Measure all qubits.\u001b[39;00m\n",
      "Cell \u001b[1;32mIn[26], line 25\u001b[0m, in \u001b[0;36mgrover_oracle\u001b[1;34m(n, marked_state)\u001b[0m\n\u001b[0;32m     23\u001b[0m oracle_gate \u001b[38;5;241m=\u001b[39m oracle\u001b[38;5;241m.\u001b[39mto_gate()\n\u001b[0;32m     24\u001b[0m oracle_gate\u001b[38;5;241m.\u001b[39mname \u001b[38;5;241m=\u001b[39m \u001b[38;5;124m\"\u001b[39m\u001b[38;5;124mOracle\u001b[39m\u001b[38;5;124m\"\u001b[39m\n\u001b[1;32m---> 25\u001b[0m decomposed_circuit \u001b[38;5;241m=\u001b[39m \u001b[43moracle_gate\u001b[49m\u001b[38;5;241;43m.\u001b[39;49m\u001b[43mdecompose\u001b[49m(recurse\u001b[38;5;241m=\u001b[39m\u001b[38;5;28;01mTrue\u001b[39;00m)\n\u001b[0;32m     26\u001b[0m \u001b[38;5;28mprint\u001b[39m(decomposed_circuit\u001b[38;5;241m.\u001b[39mqasm())  \u001b[38;5;66;03m# Check that no \"Oracle\" instruction remains\u001b[39;00m\n\u001b[0;32m     27\u001b[0m \u001b[38;5;28;01mreturn\u001b[39;00m oracle_gate\n",
      "\u001b[1;31mAttributeError\u001b[0m: 'Gate' object has no attribute 'decompose'"
     ]
    }
   ],
   "source": [
    "from qiskit_aer import Aer\n",
    "from qiskit import transpile\n",
    "n = 3  # number of qubits\n",
    "marked_state = '101'  # The state we want to search for\n",
    "\n",
    "# Create a quantum circuit with n qubits and n classical bits.\n",
    "grover_circuit = QuantumCircuit(n, n)\n",
    "\n",
    "# Step 1: Initialize all qubits in equal superposition.\n",
    "grover_circuit.h(range(n))\n",
    "\n",
    "# Calculate the optimal number of Grover iterations.\n",
    "iterations = int(np.floor(np.pi/4 * np.sqrt(2**n)))\n",
    "print(\"Number of iterations:\", iterations)\n",
    "\n",
    "# Step 2: Apply Grover iterations.\n",
    "for _ in range(iterations):\n",
    "    grover_circuit.append(grover_oracle(n, marked_state),range(n))\n",
    "    grover_circuit.append(diffuser(n), range(n))\n",
    "\n",
    "# Step 3: Measure all qubits.\n",
    "grover_circuit.measure(range(n), range(n))\n",
    "\n",
    "# Draw the circuit.\n",
    "grover_circuit.draw(output='mpl')\n",
    "\n",
    "# Run the circuit on the qasm simulator.\n",
    "backend = Aer.get_backend('qasm_simulator')\n",
    "job = backend.run(grover_circuit, backend, shots=1024)\n",
    "result = job.result()\n",
    "counts = result.get_counts()\n",
    "\n",
    "print(\"Measurement counts:\", counts)\n"
   ]
  },
  {
   "cell_type": "code",
   "execution_count": 3,
   "id": "49ec7667",
   "metadata": {},
   "outputs": [
    {
     "name": "stdout",
     "output_type": "stream",
     "text": [
      "512\n"
     ]
    }
   ],
   "source": [
    "print(2**3**2)"
   ]
  },
  {
   "cell_type": "code",
   "execution_count": null,
   "id": "bc3a38f1",
   "metadata": {},
   "outputs": [],
   "source": [
    "decomposed_circuit = grover_circuit.decompose(recurse=True)\n",
    "print(decomposed_circuit.qasm())  # Check that no \"Oracle\" instruction remains"
   ]
  }
 ],
 "metadata": {
  "kernelspec": {
   "display_name": "Python 3",
   "language": "python",
   "name": "python3"
  },
  "language_info": {
   "codemirror_mode": {
    "name": "ipython",
    "version": 3
   },
   "file_extension": ".py",
   "mimetype": "text/x-python",
   "name": "python",
   "nbconvert_exporter": "python",
   "pygments_lexer": "ipython3",
   "version": "3.12.4"
  }
 },
 "nbformat": 4,
 "nbformat_minor": 5
}
